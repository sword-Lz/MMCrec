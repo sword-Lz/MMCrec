{
 "cells": [
  {
   "cell_type": "code",
   "execution_count": 74,
   "id": "ecd946ad-8a9b-423b-ab59-da4c010a8803",
   "metadata": {},
   "outputs": [],
   "source": [
    "import numpy as np"
   ]
  },
  {
   "cell_type": "code",
   "execution_count": 75,
   "id": "93ae9c4b-81e8-425f-ae59-8d7d18719c53",
   "metadata": {},
   "outputs": [],
   "source": [
    "import pandas as pd"
   ]
  },
  {
   "cell_type": "code",
   "execution_count": 76,
   "id": "fb956f5a-fdf9-4c34-8692-74e4158e9f81",
   "metadata": {},
   "outputs": [],
   "source": [
    "test_data = pd.read_csv('test.csv', sep= '\\t')\n",
    "train_data = pd.read_csv('train.csv', sep= '\\t')\n",
    "dev_data = pd.read_csv('dev.csv', sep='\\t')"
   ]
  },
  {
   "cell_type": "code",
   "execution_count": 81,
   "id": "06c5a7ae-f547-4cca-b0cf-ca76be027f16",
   "metadata": {},
   "outputs": [
    {
     "name": "stderr",
     "output_type": "stream",
     "text": [
      "100%|██████████| 14681/14681 [00:02<00:00, 5594.56it/s]\n"
     ]
    }
   ],
   "source": [
    "df_sorted = train_data.sort_values(by=['user_id', 'time'])\n",
    "\n",
    "train = []\n",
    "import tqdm\n",
    "for user_id in tqdm.tqdm(df_sorted['user_id'].unique()):\n",
    "    train.append(df_sorted[df_sorted['user_id']==user_id]['item_id'].tolist())\n",
    "    "
   ]
  },
  {
   "cell_type": "code",
   "execution_count": 22,
   "id": "9c5eb6a0-6e2f-4355-8c46-a236e9dff593",
   "metadata": {},
   "outputs": [],
   "source": [
    "import pickle\n",
    "with open('seq', 'wb') as file:\n",
    "    pickle.dump(train, file)"
   ]
  },
  {
   "cell_type": "code",
   "execution_count": 82,
   "id": "8c77f0b1-5bf3-4d1e-9cea-0cc0da75c2f2",
   "metadata": {},
   "outputs": [
    {
     "name": "stderr",
     "output_type": "stream",
     "text": [
      "100%|██████████| 14681/14681 [00:01<00:00, 8497.91it/s]\n"
     ]
    }
   ],
   "source": [
    "df_sorted = test_data.sort_values(by=['user_id', 'time'])\n",
    "\n",
    "test = []\n",
    "import tqdm\n",
    "for user_id in tqdm.tqdm(df_sorted['user_id'].unique()):\n",
    "    test.append(df_sorted[df_sorted['user_id']==user_id]['item_id'].tolist())"
   ]
  },
  {
   "cell_type": "code",
   "execution_count": 83,
   "id": "9d6e3a9b-4248-4747-b316-ead445c6804c",
   "metadata": {},
   "outputs": [
    {
     "name": "stderr",
     "output_type": "stream",
     "text": [
      "100%|██████████| 14681/14681 [00:01<00:00, 8519.53it/s]\n"
     ]
    }
   ],
   "source": [
    "df_sorted = dev_data.sort_values(by=['user_id', 'time'])\n",
    "\n",
    "dev = []\n",
    "import tqdm\n",
    "for user_id in tqdm.tqdm(df_sorted['user_id'].unique()):\n",
    "    dev.append(df_sorted[df_sorted['user_id']==user_id]['item_id'].tolist())\n",
    "    f.writelines(data)\n",
    "  "
   ]
  },
  {
   "cell_type": "code",
   "execution_count": 84,
   "id": "0d4467ab-2b60-4e92-9463-899219ac38f2",
   "metadata": {},
   "outputs": [],
   "source": [
    "data = [i+j+l for i, j, l in zip(train, dev, test)]"
   ]
  },
  {
   "cell_type": "code",
   "execution_count": 40,
   "id": "0d89a3f6-3cfc-48a8-8052-bfa726f5b044",
   "metadata": {},
   "outputs": [],
   "source": [
    "test = [i+j for i, j in zip(train, test)]"
   ]
  },
  {
   "cell_type": "code",
   "execution_count": 46,
   "id": "4f06c080-cd1c-4129-91f5-8779ba5f3a9e",
   "metadata": {},
   "outputs": [],
   "source": [
    "with open('tst', 'wb') as file:\n",
    "    pickle.dump(test, file) "
   ]
  },
  {
   "cell_type": "code",
   "execution_count": 86,
   "id": "3c6f5bee-507a-4eb7-ad70-bc651bec061e",
   "metadata": {},
   "outputs": [
    {
     "data": {
      "text/plain": [
       "array([    1,     2,     3, ..., 14679, 14680, 14681])"
      ]
     },
     "execution_count": 86,
     "metadata": {},
     "output_type": "execute_result"
    }
   ],
   "source": [
    "df_sorted['user_id'].unique()"
   ]
  },
  {
   "cell_type": "code",
   "execution_count": 92,
   "id": "45d5eed8-48d9-4095-931c-8e373ddd788f",
   "metadata": {},
   "outputs": [
    {
     "name": "stderr",
     "output_type": "stream",
     "text": [
      "100%|██████████| 14681/14681 [00:00<00:00, 152976.92it/s]\n"
     ]
    }
   ],
   "source": [
    "with open('Grocery_and_Gourmet.txt','w') as file:\n",
    "    for i in tqdm.tqdm(df_sorted['user_id'].unique()):\n",
    "        d = data[i-1]\n",
    "        tmp = ''\n",
    "        tmp = tmp+str(i)\n",
    "        for j in d:\n",
    "            tmp = tmp+' '+str(j)\n",
    "        tmp = tmp+'\\n'\n",
    "        file.writelines(tmp)"
   ]
  },
  {
   "cell_type": "code",
   "execution_count": 88,
   "id": "8887c2e7-0a73-41ed-af1c-5863f388e6d7",
   "metadata": {},
   "outputs": [
    {
     "data": {
      "text/plain": [
       "1"
      ]
     },
     "execution_count": 88,
     "metadata": {},
     "output_type": "execute_result"
    }
   ],
   "source": [
    "i"
   ]
  },
  {
   "cell_type": "code",
   "execution_count": 72,
   "id": "af60b5f6-6fd9-449b-8301-32f26d5790bf",
   "metadata": {},
   "outputs": [
    {
     "name": "stderr",
     "output_type": "stream",
     "text": [
      "100%|██████████| 14681/14681 [00:02<00:00, 6969.02it/s]\n"
     ]
    }
   ],
   "source": [
    "neg = []\n",
    "for user_id in tqdm.tqdm(df_sorted['user_id'].unique()):\n",
    "    tmp = re.findall('\\d+',df_sorted[df_sorted['user_id']==user_id]['neg_items'].values[0])\n",
    "    tmp = [int(i) for i in tmp]\n",
    "    neg.append(tmp)"
   ]
  },
  {
   "cell_type": "code",
   "execution_count": 73,
   "id": "1682b7aa-6e7f-4459-9844-8c297de17526",
   "metadata": {},
   "outputs": [],
   "source": [
    "with open('neg', 'wb') as file:\n",
    "    pickle.dump(neg, file) "
   ]
  },
  {
   "cell_type": "code",
   "execution_count": 70,
   "id": "fcf52f3c-da31-44ee-b3cb-5723d7fe0ce9",
   "metadata": {},
   "outputs": [],
   "source": [
    "import copy\n",
    "from scipy.sparse import csr_matrix\n",
    "def construct_graphs(num_items=54756, distance=3, path='./'):\n",
    "    with open(path + 'seq', 'rb') as fs:\n",
    "        seqs = pickle.load(fs)\n",
    "    user = list()\n",
    "    r, c, d = list(), list(), list()\n",
    "    for i, seq in enumerate(seqs):\n",
    "        print(f\"Processing {i}/{len(seqs)}          \", end='\\r')\n",
    "        for dist in range(1, distance + 1):\n",
    "            if dist >= len(seq): break;\n",
    "            r += copy.deepcopy(seq[+dist:])\n",
    "            c += copy.deepcopy(seq[:-dist])\n",
    "            r += copy.deepcopy(seq[:-dist])\n",
    "            c += copy.deepcopy(seq[+dist:])\n",
    "    d = np.ones_like(r)\n",
    "    iigraph = csr_matrix((d, (r, c)), shape=(num_items, num_items))\n",
    "    print('Constructed i-i graph, density=%.6f' % (len(d) / (num_items ** 2)))\n",
    "    with open(path + 'trn', 'wb') as fs:\n",
    "        pickle.dump(iigraph, fs)"
   ]
  },
  {
   "cell_type": "code",
   "execution_count": 71,
   "id": "ac1141f4-fe6d-454e-aa34-3c12a520935b",
   "metadata": {},
   "outputs": [
    {
     "name": "stdout",
     "output_type": "stream",
     "text": [
      "Constructed i-i graph, density=0.002576\n"
     ]
    }
   ],
   "source": [
    "construct_graphs(num_items=14681, distance=3, path='./')"
   ]
  },
  {
   "cell_type": "code",
   "execution_count": null,
   "id": "61e11234-8ee0-407d-a3b8-a43bd197ca9d",
   "metadata": {},
   "outputs": [],
   "source": []
  }
 ],
 "metadata": {
  "kernelspec": {
   "display_name": "Python 3 (ipykernel)",
   "language": "python",
   "name": "python3"
  },
  "language_info": {
   "codemirror_mode": {
    "name": "ipython",
    "version": 3
   },
   "file_extension": ".py",
   "mimetype": "text/x-python",
   "name": "python",
   "nbconvert_exporter": "python",
   "pygments_lexer": "ipython3",
   "version": "3.9.13"
  }
 },
 "nbformat": 4,
 "nbformat_minor": 5
}
